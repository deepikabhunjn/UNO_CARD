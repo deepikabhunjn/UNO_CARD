{
  "nbformat": 4,
  "nbformat_minor": 0,
  "metadata": {
    "colab": {
      "provenance": []
    },
    "kernelspec": {
      "name": "python3",
      "display_name": "Python 3"
    },
    "language_info": {
      "name": "python"
    }
  },
  "cells": [
    {
      "cell_type": "code",
      "source": [
        "#data augmentation for blue 2,3,4,5,6,7,8,9,skip,reverse,draw2 && wild card[black] &&\n",
        "#  green 0,1,2,3,4,5,6,7,reverse\n",
        "\n",
        "import os\n",
        "from tensorflow.keras.preprocessing.image import ImageDataGenerator, load_img, img_to_array\n",
        "\n",
        "datagen = ImageDataGenerator(\n",
        "    rotation_range=30,\n",
        "    width_shift_range=0.2,\n",
        "    height_shift_range=0.2,\n",
        "    shear_range=0.2,\n",
        "    zoom_range=0.2,\n",
        "    horizontal_flip=True,\n",
        "    fill_mode='nearest',\n",
        "    brightness_range=[0.8, 1.2]\n",
        ")\n",
        "\n",
        "source_folder = \"/content/reverse_green\"\n",
        "save_folder = \"/content/reverse_green_new\"\n",
        "\n",
        "for filename in os.listdir(source_folder):\n",
        "    img_path = os.path.join(source_folder, filename)\n",
        "    img = load_img(img_path)\n",
        "    x = img_to_array(img)\n",
        "    x = x.reshape((1,) + x.shape)\n",
        "    i = 0\n",
        "    for batch in datagen.flow(x, batch_size=1, save_to_dir=save_folder, save_prefix=\"aug\", save_format='jpg'):\n",
        "        i += 1\n",
        "        if i >15:\n",
        "          break\n",
        "\n",
        "print(\"completed\")"
      ],
      "metadata": {
        "id": "_LR0ztJYx8oW",
        "colab": {
          "base_uri": "https://localhost:8080/"
        },
        "outputId": "c8f4e215-6c30-4392-93fd-125ba74a7040"
      },
      "execution_count": 1,
      "outputs": [
        {
          "output_type": "stream",
          "name": "stdout",
          "text": [
            "completed\n"
          ]
        }
      ]
    },
    {
      "cell_type": "code",
      "source": [
        "import shutil\n",
        "shutil.make_archive('/content/reverse_green_new', 'zip', '/content/reverse_green_new')"
      ],
      "metadata": {
        "colab": {
          "base_uri": "https://localhost:8080/",
          "height": 35
        },
        "id": "Z-wzCTp0gWIN",
        "outputId": "2c5270f2-4cd5-4989-807a-f353eb2c536a"
      },
      "execution_count": 2,
      "outputs": [
        {
          "output_type": "execute_result",
          "data": {
            "text/plain": [
              "'/content/reverse_green_new.zip'"
            ],
            "application/vnd.google.colaboratory.intrinsic+json": {
              "type": "string"
            }
          },
          "metadata": {},
          "execution_count": 2
        }
      ]
    }
  ]
}